{
 "cells": [
  {
   "cell_type": "code",
   "execution_count": 1,
   "metadata": {
    "collapsed": true
   },
   "outputs": [],
   "source": [
    "from selenium import webdriver\n",
    "from selenium.webdriver.common.keys import Keys\n",
    "import time, re\n",
    "from db_con import DatabaseConnection\n",
    "import urllib.request"
   ]
  },
  {
   "cell_type": "code",
   "execution_count": 2,
   "metadata": {
    "collapsed": true
   },
   "outputs": [],
   "source": [
    "# create a new Firefox session\n",
    "driver = webdriver.Firefox(executable_path='geckodriver')\n",
    "driver.implicitly_wait(30)\n",
    "driver.maximize_window()"
   ]
  },
  {
   "cell_type": "code",
   "execution_count": 3,
   "metadata": {
    "collapsed": false
   },
   "outputs": [],
   "source": [
    "# navigate to the application home page\n",
    "driver.get('https://www.myntra.com/ethnic-tops')"
   ]
  },
  {
   "cell_type": "code",
   "execution_count": 4,
   "metadata": {
    "collapsed": false
   },
   "outputs": [
    {
     "name": "stdout",
     "output_type": "stream",
     "text": [
      "no more product to load.\n"
     ]
    }
   ],
   "source": [
    "# click on more product link\n",
    "while True:\n",
    "    try:\n",
    "        more_product_link = driver.find_element_by_class_name('results-showmore')\n",
    "        time.sleep(1)\n",
    "        more_product_link.click()\n",
    "    except:\n",
    "        print(\"no more product to load.\")\n",
    "        break"
   ]
  },
  {
   "cell_type": "code",
   "execution_count": 5,
   "metadata": {
    "collapsed": true
   },
   "outputs": [],
   "source": [
    "category_name = driver.find_elements_by_css_selector('li.breadcrumbs-item')[-1].text"
   ]
  },
  {
   "cell_type": "code",
   "execution_count": 6,
   "metadata": {
    "collapsed": false
   },
   "outputs": [],
   "source": [
    "products = driver.find_elements_by_css_selector('li.product-base')"
   ]
  },
  {
   "cell_type": "code",
   "execution_count": 7,
   "metadata": {
    "collapsed": false
   },
   "outputs": [
    {
     "name": "stdout",
     "output_type": "stream",
     "text": [
      "3430\n"
     ]
    }
   ],
   "source": [
    "print(len(products))"
   ]
  },
  {
   "cell_type": "code",
   "execution_count": 10,
   "metadata": {
    "collapsed": true
   },
   "outputs": [],
   "source": [
    "db_connection = DatabaseConnection()\n",
    "db_connection.create_table()"
   ]
  },
  {
   "cell_type": "code",
   "execution_count": null,
   "metadata": {
    "collapsed": false
   },
   "outputs": [
    {
     "name": "stdout",
     "output_type": "stream",
     "text": [
      "https://assets.myntassets.com/h_240,q_90,w_180/v1/assets/images/1937435/2017/5/31/11496209299046-Eavan-Women-Tops-2391496209298836-1_mini.jpg\n",
      "https://assets.myntassets.com/h_240,q_90,w_180/v1/assets/images/1825140/2017/3/28/11490686581865-Ruhaans-Women-Tunics-761490686581423-1_mini.jpg\n",
      "https://assets.myntassets.com/h_240,q_90,w_180/v1/images/style/properties/Ira-Soleil-Women-Black-Printed-Kurti_c86a54f87d73cf9b6516ea35a2f0c98c_images_mini.jpg\n",
      "https://assets.myntassets.com/h_240,q_90,w_180/v1/assets/images/1960588/2017/6/13/11497332056477-plusS-Women-Tops-8661497332056215-1_mini.jpg\n",
      "https://assets.myntassets.com/h_240,q_90,w_180/v1/assets/images/1588241/2016/10/14/11476426630940-Cation-Women-Tops-3231476426630457-1_mini.jpg\n",
      "https://assets.myntassets.com/h_240,q_90,w_180/v1/assets/images/1870298/2017/4/26/11493194594534-Nayo-Multicoloured-Printed-A-Line-Tunic-7821493194594289-1_mini.jpg\n",
      "https://assets.myntassets.com/h_240,q_90,w_180/v1/assets/images/2126102/2017/9/15/11505451878274-Black-34th-sleeve-cotton-double-layer-tunic-5621505451878066-1_mini.jpg\n",
      "https://assets.myntassets.com/h_240,q_90,w_180/v1/assets/images/2025409/2017/8/17/11502970979180-Biba-Red-Floral-Print-Kurti-621502970978960-1_mini.jpg\n",
      "https://assets.myntassets.com/h_240,q_90,w_180/v1/assets/images/1665276/2016/12/20/11482213617766-Global-Desi-Red-Printed-Tunic-3081482213617581-1_mini.jpg\n",
      "https://assets.myntassets.com/h_240,q_90,w_180/v1/assets/images/2041423/2017/8/10/11502349798499-plusS-Women-Black-Checked-Top-8791502349798297-1_mini.jpg\n",
      "https://assets.myntassets.com/h_240,q_90,w_180/v1/assets/images/1983188/2017/7/3/11499065187695-WALK-WITH-ME-TOP-9921499065187532-1_mini.jpg\n",
      "https://assets.myntassets.com/h_240,q_90,w_180/v1/assets/images/1329661/2016/4/28/11461839183310-Bhama-Couture-Women-Tops-4021461839182777-1_mini.jpg\n",
      "https://assets.myntassets.com/h_240,q_90,w_180/v1/assets/images/1604310/2016/10/21/11477036207759-Ruhaans-Women-Tunics-561477036207453-1_mini.jpg\n",
      "https://assets.myntassets.com/h_240,q_90,w_180/v1/assets/images/1910967/2017/5/18/11495103140804-plusS-Women-Tops-7351495103140621-1_mini.jpg\n",
      "https://assets.myntassets.com/h_240,q_90,w_180/v1/assets/images/1945394/2017/6/5/11496651194229-plusS-Women-Mustard-Solid-Top-8171496651194019-1_mini.jpg\n",
      "https://assets.myntassets.com/h_240,q_90,w_180/v1/assets/images/1960127/2017/6/12/11497271542900-Ruhaans-Printed-Top-3611497271542701-1_mini.jpg\n"
     ]
    }
   ],
   "source": [
    "i = 1\n",
    "for product in products:\n",
    "    try:\n",
    "        name = product.find_element_by_css_selector('h4.product-product').text\n",
    "        brand = product.find_element_by_css_selector('div.product-brand').text\n",
    "        prod_url = product.find_element_by_tag_name('a').get_attribute('href')\n",
    "        img_url = product.find_element_by_css_selector('img.product-thumb').get_attribute('src')\n",
    "\n",
    "        print(img_url)\n",
    "        urllib.request.urlretrieve(img_url, \"images/\" + str(i) +\".jpg\")\n",
    "        i += 1\n",
    "        # price = product.find_element_by_css_selector('span.product-discountedPrice').text\n",
    "        # price_reg = re.compile(r'(\\d)+')\n",
    "        # price = price_reg.search(price).group()\n",
    "\n",
    "        # apostrophe_reg = re.compile(r\"(')\")\n",
    "        # name = apostrophe_reg.sub(\"''\", name)\n",
    "        # brand = apostrophe_reg.sub(\"''\", brand)\n",
    "\n",
    "        # print(\"Link :\" + link)\n",
    "        # print(\"Brand :\" + brand)\n",
    "        # print(\"Name :\" + name)\n",
    "        # print(\"Price :\" + price)\n",
    "\n",
    "        #db_connection.insert_new_record(name, brand, prod_url, img_url)\n",
    "    except:\n",
    "        print(\"No url for image\")"
   ]
  },
  {
   "cell_type": "code",
   "execution_count": null,
   "metadata": {
    "collapsed": true
   },
   "outputs": [],
   "source": []
  }
 ],
 "metadata": {
  "anaconda-cloud": {},
  "kernelspec": {
   "display_name": "Python [conda root]",
   "language": "python",
   "name": "conda-root-py"
  },
  "language_info": {
   "codemirror_mode": {
    "name": "ipython",
    "version": 3
   },
   "file_extension": ".py",
   "mimetype": "text/x-python",
   "name": "python",
   "nbconvert_exporter": "python",
   "pygments_lexer": "ipython3",
   "version": "3.5.2"
  }
 },
 "nbformat": 4,
 "nbformat_minor": 1
}
